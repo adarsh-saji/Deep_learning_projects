{
  "nbformat": 4,
  "nbformat_minor": 0,
  "metadata": {
    "colab": {
      "provenance": [],
      "gpuType": "T4",
      "mount_file_id": "1kKsF0f4A6ZjamXYfZ0F1Yvjy3KBlHZDB",
      "authorship_tag": "ABX9TyMVpcoRjiK6LjTWAvPnJVAR",
      "include_colab_link": true
    },
    "kernelspec": {
      "name": "python3",
      "display_name": "Python 3"
    },
    "language_info": {
      "name": "python"
    },
    "accelerator": "GPU"
  },
  "cells": [
    {
      "cell_type": "markdown",
      "metadata": {
        "id": "view-in-github",
        "colab_type": "text"
      },
      "source": [
        "<a href=\"https://colab.research.google.com/github/adarsh-saji/Deep_learning_projects/blob/main/image_recoginition_using_vgg16.ipynb\" target=\"_parent\"><img src=\"https://colab.research.google.com/assets/colab-badge.svg\" alt=\"Open In Colab\"/></a>"
      ]
    },
    {
      "cell_type": "code",
      "execution_count": null,
      "metadata": {
        "id": "Y4pzd8I9ZTkO"
      },
      "outputs": [],
      "source": [
        "from keras.layers import Input, Lambda, Dense, Flatten\n",
        "from keras.models import Model\n",
        "from keras.applications.vgg16 import VGG16\n",
        "from keras.applications.vgg16 import preprocess_input\n",
        "from keras.preprocessing import image\n",
        "from keras.preprocessing.image import ImageDataGenerator, img_to_array, load_img, save_img, array_to_img\n",
        "import numpy as np\n",
        "import matplotlib.pyplot as plt"
      ]
    },
    {
      "cell_type": "code",
      "source": [
        "import os"
      ],
      "metadata": {
        "id": "Yctds9-fk3ja"
      },
      "execution_count": null,
      "outputs": []
    },
    {
      "cell_type": "code",
      "source": [
        "from sklearn.model_selection import train_test_split\n",
        "import shutil"
      ],
      "metadata": {
        "id": "0wFGDaIiNjYA"
      },
      "execution_count": null,
      "outputs": []
    },
    {
      "cell_type": "code",
      "source": [
        "dir_path = '/content/drive/MyDrive/Image_recognition'"
      ],
      "metadata": {
        "id": "QK1kNQesjX8e"
      },
      "execution_count": null,
      "outputs": []
    },
    {
      "cell_type": "code",
      "source": [
        "datagen = ImageDataGenerator(\n",
        "    height_shift_range=0.2,\n",
        "    rotation_range=40,\n",
        "    vertical_flip=True,\n",
        "    horizontal_flip=True,\n",
        "    zoom_range=0.2,\n",
        "    width_shift_range=0.2)\n",
        "\n",
        "train_generator = datagen.flow_from_directory(\n",
        "    dir_path,\n",
        "    target_size=(224,224),\n",
        "    class_mode='categorical',\n",
        "    batch_size= 20\n",
        ")\n",
        "\n",
        "for subdirectory in os.listdir(dir_path):\n",
        "  class_path = os.path.join(dir_path, subdirectory)\n",
        "\n",
        "  image_files = [f for f in os.listdir(class_path) if os.path.isfile(os.path.join(class_path,f))]\n",
        "\n",
        "  output_dir = os.path.join(dir_path,f'augmented_{subdirectory}')\n",
        "  os.makedirs(output_dir, exist_ok=True)\n",
        "\n",
        "  for image_file in image_files:\n",
        "    img = load_img(os.path.join(class_path,image_file))\n",
        "    x = img_to_array(img)\n",
        "    x = x.reshape((1,) + x.shape)\n",
        "\n",
        "\n",
        "    i = 0\n",
        "    for batch in datagen.flow(x,batch_size= 1):\n",
        "      augmented_image = array_to_img(batch[0])\n",
        "      image_path = os.path.join(output_dir, f\"{os.path.splitext(image_file)[0]}_{i}.jpg\")\n",
        "      image.save_img(image_path, augmented_image)\n",
        "      i += 1\n",
        "      if i >= 20:\n",
        "        break\n"
      ],
      "metadata": {
        "colab": {
          "base_uri": "https://localhost:8080/"
        },
        "id": "occvHiQIh4hD",
        "outputId": "d9b4d690-1657-49a6-b768-80da78d32be3"
      },
      "execution_count": null,
      "outputs": [
        {
          "output_type": "stream",
          "name": "stdout",
          "text": [
            "Found 4 images belonging to 4 classes.\n"
          ]
        }
      ]
    },
    {
      "cell_type": "code",
      "source": [
        "augmented_dir = '/content/drive/MyDrive/Image_recognition/augmented'"
      ],
      "metadata": {
        "id": "KJLS9zfgNzr3"
      },
      "execution_count": null,
      "outputs": []
    },
    {
      "cell_type": "code",
      "source": [
        "for subdirectory in os.listdir(augmented_dir):\n",
        "  class_path = os.path.join(augmented_dir, subdirectory)\n",
        "\n",
        "  image_files = os.listdir(class_path)\n",
        "\n",
        "  (train_files),(test_files) = train_test_split(image_files, random_state= 42, test_size=.3)\n",
        "\n",
        "  train_output_dir = os.path.join(augmented_dir,'train', subdirectory)\n",
        "  test_output_dir = os.path.join(augmented_dir,'test', subdirectory)\n",
        "  os.makedirs(train_output_dir, exist_ok= True)\n",
        "  os.makedirs(test_output_dir, exist_ok= True)\n",
        "\n",
        "  for file in train_files:\n",
        "        shutil.copy(os.path.join(class_path, file), os.path.join(train_output_dir, file))\n",
        "\n",
        "  for file in test_files:\n",
        "        shutil.copy(os.path.join(class_path, file), os.path.join(test_output_dir, file))"
      ],
      "metadata": {
        "id": "xju_Ry8dOuw5"
      },
      "execution_count": null,
      "outputs": []
    },
    {
      "cell_type": "code",
      "source": [
        "IMAGE_SIZE = [224,224]\n",
        "input_layer = Input(shape = IMAGE_SIZE)"
      ],
      "metadata": {
        "id": "q3Zp7yd5bmji"
      },
      "execution_count": null,
      "outputs": []
    },
    {
      "cell_type": "code",
      "source": [
        "train_path = r'/content/drive/MyDrive/Image_recognition/augmented/train'\n",
        "test_path = r'/content/drive/MyDrive/Image_recognition/augmented/test'"
      ],
      "metadata": {
        "id": "KD4TcCk_cKPR"
      },
      "execution_count": null,
      "outputs": []
    },
    {
      "cell_type": "code",
      "source": [
        "vgg = VGG16(input_shape= (224,224,3), weights = 'imagenet', include_top=False)"
      ],
      "metadata": {
        "colab": {
          "base_uri": "https://localhost:8080/"
        },
        "id": "BW5hDVqsd_dn",
        "outputId": "c59b66fc-6ca7-40bc-e0d9-4a6bc66ddd04"
      },
      "execution_count": null,
      "outputs": [
        {
          "output_type": "stream",
          "name": "stdout",
          "text": [
            "Downloading data from https://storage.googleapis.com/tensorflow/keras-applications/vgg16/vgg16_weights_tf_dim_ordering_tf_kernels_notop.h5\n",
            "58889256/58889256 [==============================] - 0s 0us/step\n"
          ]
        }
      ]
    },
    {
      "cell_type": "code",
      "source": [
        "for layer in vgg.layers:\n",
        "  layer.trainable = False"
      ],
      "metadata": {
        "id": "ia3CEW2FeUeV"
      },
      "execution_count": null,
      "outputs": []
    },
    {
      "cell_type": "code",
      "source": [
        "x = Flatten()(vgg.output)"
      ],
      "metadata": {
        "id": "y0lH4ioXgTvD"
      },
      "execution_count": null,
      "outputs": []
    },
    {
      "cell_type": "code",
      "source": [
        "x = Dense(4, activation = 'softmax')(x)"
      ],
      "metadata": {
        "id": "DggTExSalAHv"
      },
      "execution_count": null,
      "outputs": []
    },
    {
      "cell_type": "code",
      "source": [
        "model = Model(inputs = vgg.input, outputs = x)"
      ],
      "metadata": {
        "id": "0Y2posv_Um8X"
      },
      "execution_count": null,
      "outputs": []
    },
    {
      "cell_type": "code",
      "source": [
        "model.summary()"
      ],
      "metadata": {
        "colab": {
          "base_uri": "https://localhost:8080/"
        },
        "id": "Y5PQba-eU7Dq",
        "outputId": "3d16c271-ed18-4a44-88ee-67cc6a55cba1"
      },
      "execution_count": null,
      "outputs": [
        {
          "output_type": "stream",
          "name": "stdout",
          "text": [
            "Model: \"model\"\n",
            "_________________________________________________________________\n",
            " Layer (type)                Output Shape              Param #   \n",
            "=================================================================\n",
            " input_2 (InputLayer)        [(None, 224, 224, 3)]     0         \n",
            "                                                                 \n",
            " block1_conv1 (Conv2D)       (None, 224, 224, 64)      1792      \n",
            "                                                                 \n",
            " block1_conv2 (Conv2D)       (None, 224, 224, 64)      36928     \n",
            "                                                                 \n",
            " block1_pool (MaxPooling2D)  (None, 112, 112, 64)      0         \n",
            "                                                                 \n",
            " block2_conv1 (Conv2D)       (None, 112, 112, 128)     73856     \n",
            "                                                                 \n",
            " block2_conv2 (Conv2D)       (None, 112, 112, 128)     147584    \n",
            "                                                                 \n",
            " block2_pool (MaxPooling2D)  (None, 56, 56, 128)       0         \n",
            "                                                                 \n",
            " block3_conv1 (Conv2D)       (None, 56, 56, 256)       295168    \n",
            "                                                                 \n",
            " block3_conv2 (Conv2D)       (None, 56, 56, 256)       590080    \n",
            "                                                                 \n",
            " block3_conv3 (Conv2D)       (None, 56, 56, 256)       590080    \n",
            "                                                                 \n",
            " block3_pool (MaxPooling2D)  (None, 28, 28, 256)       0         \n",
            "                                                                 \n",
            " block4_conv1 (Conv2D)       (None, 28, 28, 512)       1180160   \n",
            "                                                                 \n",
            " block4_conv2 (Conv2D)       (None, 28, 28, 512)       2359808   \n",
            "                                                                 \n",
            " block4_conv3 (Conv2D)       (None, 28, 28, 512)       2359808   \n",
            "                                                                 \n",
            " block4_pool (MaxPooling2D)  (None, 14, 14, 512)       0         \n",
            "                                                                 \n",
            " block5_conv1 (Conv2D)       (None, 14, 14, 512)       2359808   \n",
            "                                                                 \n",
            " block5_conv2 (Conv2D)       (None, 14, 14, 512)       2359808   \n",
            "                                                                 \n",
            " block5_conv3 (Conv2D)       (None, 14, 14, 512)       2359808   \n",
            "                                                                 \n",
            " block5_pool (MaxPooling2D)  (None, 7, 7, 512)         0         \n",
            "                                                                 \n",
            " flatten (Flatten)           (None, 25088)             0         \n",
            "                                                                 \n",
            " dense (Dense)               (None, 4)                 100356    \n",
            "                                                                 \n",
            "=================================================================\n",
            "Total params: 14815044 (56.51 MB)\n",
            "Trainable params: 100356 (392.02 KB)\n",
            "Non-trainable params: 14714688 (56.13 MB)\n",
            "_________________________________________________________________\n"
          ]
        }
      ]
    },
    {
      "cell_type": "code",
      "source": [
        "model.compile(loss = 'categorical_crossentropy',\n",
        "              optimizer = 'adam',\n",
        "              metrics = ['accuracy'])"
      ],
      "metadata": {
        "id": "u-nqSs7hR33e"
      },
      "execution_count": null,
      "outputs": []
    },
    {
      "cell_type": "code",
      "source": [
        "training_set = ImageDataGenerator(rescale=(1./255)).flow_from_directory(\n",
        "    train_path,\n",
        "    target_size = (224,224),\n",
        "    batch_size=32,\n",
        "    class_mode = 'categorical'\n",
        ")\n",
        "test_set = ImageDataGenerator(rescale=(1./255)).flow_from_directory(\n",
        "    test_path,\n",
        "    target_size = (224,224),\n",
        "    batch_size=32,\n",
        "    class_mode = 'categorical'\n",
        ")"
      ],
      "metadata": {
        "colab": {
          "base_uri": "https://localhost:8080/"
        },
        "id": "5uzBd8A1UJw0",
        "outputId": "486736a8-e079-4587-ef19-859b8723d186"
      },
      "execution_count": null,
      "outputs": [
        {
          "output_type": "stream",
          "name": "stdout",
          "text": [
            "Found 56 images belonging to 4 classes.\n",
            "Found 24 images belonging to 4 classes.\n"
          ]
        }
      ]
    },
    {
      "cell_type": "code",
      "source": [
        "r = model.fit_generator(\n",
        "    training_set,\n",
        "    epochs = 5,\n",
        "    validation_data= test_set,\n",
        "    validation_steps = (len(test_set)),\n",
        "    steps_per_epoch = (len(training_set))\n",
        ")"
      ],
      "metadata": {
        "colab": {
          "base_uri": "https://localhost:8080/"
        },
        "id": "C8jURTDeSd-t",
        "outputId": "cfb9be09-8a8e-44d5-ebbd-07104e5a35c3"
      },
      "execution_count": null,
      "outputs": [
        {
          "output_type": "stream",
          "name": "stderr",
          "text": [
            "<ipython-input-21-631a606b09ba>:1: UserWarning: `Model.fit_generator` is deprecated and will be removed in a future version. Please use `Model.fit`, which supports generators.\n",
            "  r = model.fit_generator(\n"
          ]
        },
        {
          "output_type": "stream",
          "name": "stdout",
          "text": [
            "Epoch 1/5\n",
            "2/2 [==============================] - 17s 5s/step - loss: 2.3175 - accuracy: 0.2679 - val_loss: 2.5594 - val_accuracy: 0.2500\n",
            "Epoch 2/5\n",
            "2/2 [==============================] - 1s 502ms/step - loss: 1.4862 - accuracy: 0.4643 - val_loss: 1.1033 - val_accuracy: 0.5833\n",
            "Epoch 3/5\n",
            "2/2 [==============================] - 1s 497ms/step - loss: 0.7557 - accuracy: 0.6607 - val_loss: 1.2659 - val_accuracy: 0.6250\n",
            "Epoch 4/5\n",
            "2/2 [==============================] - 1s 576ms/step - loss: 0.4392 - accuracy: 0.8750 - val_loss: 0.9867 - val_accuracy: 0.6250\n",
            "Epoch 5/5\n",
            "2/2 [==============================] - 1s 513ms/step - loss: 0.1772 - accuracy: 0.9643 - val_loss: 0.8385 - val_accuracy: 0.7083\n"
          ]
        }
      ]
    },
    {
      "cell_type": "code",
      "source": [
        "plt.plot(r.history['loss'],label='train loss')\n",
        "plt.plot(r.history['val_loss'], label='val loss')\n",
        "plt.legend()\n",
        "plt.show()"
      ],
      "metadata": {
        "colab": {
          "base_uri": "https://localhost:8080/",
          "height": 430
        },
        "id": "AqGsd0uVWjTs",
        "outputId": "a6319c18-9270-41ff-cc7d-d2f0936a62e5"
      },
      "execution_count": null,
      "outputs": [
        {
          "output_type": "display_data",
          "data": {
            "text/plain": [
              "<Figure size 640x480 with 1 Axes>"
            ],
            "image/png": "[encoded data removed]"
          },
          "metadata": {}
        }
      ]
    },
    {
      "cell_type": "code",
      "source": [
        "plt.plot(r.history['accuracy'], label='train accuracy')\n",
        "plt.plot(r.history['val_accuracy'], label='val accuracy')\n",
        "plt.legend()\n",
        "plt.show()\n",
        "plt.savefig('AccVal_acc')"
      ],
      "metadata": {
        "colab": {
          "base_uri": "https://localhost:8080/",
          "height": 452
        },
        "id": "imz0eJ1LX1KU",
        "outputId": "90b09079-42cf-4157-c535-18d4b6200078"
      },
      "execution_count": null,
      "outputs": [
        {
          "output_type": "display_data",
          "data": {
            "text/plain": [
              "<Figure size 640x480 with 1 Axes>"
            ],
            "image/png": "[encoded data removed]"
          },
          "metadata": {}
        },
        {
          "output_type": "display_data",
          "data": {
            "text/plain": [
              "<Figure size 640x480 with 0 Axes>"
            ]
          },
          "metadata": {}
        }
      ]
    },
    {
      "cell_type": "code",
      "source": [],
      "metadata": {
        "id": "1Kc7IQURYsHr"
      },
      "execution_count": null,
      "outputs": []
    }
  ]
}