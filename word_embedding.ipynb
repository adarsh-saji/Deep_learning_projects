{
  "nbformat": 4,
  "nbformat_minor": 0,
  "metadata": {
    "colab": {
      "provenance": []
    },
    "kernelspec": {
      "name": "python3",
      "display_name": "Python 3"
    },
    "language_info": {
      "name": "python"
    }
  },
  "cells": [
    {
      "cell_type": "code",
      "execution_count": null,
      "metadata": {
        "id": "FUx7NlmPlBw1"
      },
      "outputs": [],
      "source": [
        "from keras.preprocessing.text import one_hot"
      ]
    },
    {
      "cell_type": "code",
      "source": [
        "# sentence\n",
        "sent = ['the glass of milk',\n",
        "        'the glass of juice',\n",
        "        'the cup of tea',\n",
        "        'I am a good boy',\n",
        "        'I am a good developer',\n",
        "        'understand the meaning of words',\n",
        "        'your videos are good',]"
      ],
      "metadata": {
        "id": "fv0gMut1lbha"
      },
      "execution_count": null,
      "outputs": []
    },
    {
      "cell_type": "code",
      "source": [
        "sent"
      ],
      "metadata": {
        "colab": {
          "base_uri": "https://localhost:8080/"
        },
        "id": "VPD8EHKzmUQQ",
        "outputId": "c189145b-b510-4865-9194-f2c3b961737c"
      },
      "execution_count": null,
      "outputs": [
        {
          "output_type": "execute_result",
          "data": {
            "text/plain": [
              "['the glass of milk',\n",
              " 'the glass of juice',\n",
              " 'the cup of tea',\n",
              " 'I am a good boy',\n",
              " 'I am a good developer',\n",
              " 'understand the meaning of words',\n",
              " 'your videos are good']"
            ]
          },
          "metadata": {},
          "execution_count": 3
        }
      ]
    },
    {
      "cell_type": "code",
      "source": [
        "# create a one hot to convert this sentence\n",
        "voc_size = 10000"
      ],
      "metadata": {
        "id": "5kmkiqmTmV_b"
      },
      "execution_count": null,
      "outputs": []
    },
    {
      "cell_type": "code",
      "source": [
        "onehot_rep = [one_hot(words,voc_size)for words in sent]"
      ],
      "metadata": {
        "id": "J8pVLp5QoeoD"
      },
      "execution_count": null,
      "outputs": []
    },
    {
      "cell_type": "code",
      "source": [
        "onehot_rep"
      ],
      "metadata": {
        "colab": {
          "base_uri": "https://localhost:8080/"
        },
        "id": "aLAV4N2eo2Tt",
        "outputId": "9ceb4f43-f814-45d5-9798-7e5cb0e1808d"
      },
      "execution_count": null,
      "outputs": [
        {
          "output_type": "execute_result",
          "data": {
            "text/plain": [
              "[[5799, 3619, 1114, 561],\n",
              " [5799, 3619, 1114, 2365],\n",
              " [5799, 9552, 1114, 7314],\n",
              " [1353, 779, 8650, 9339, 1042],\n",
              " [1353, 779, 8650, 9339, 5243],\n",
              " [2022, 5799, 150, 1114, 6220],\n",
              " [2515, 5257, 2550, 9339]]"
            ]
          },
          "metadata": {},
          "execution_count": 6
        }
      ]
    },
    {
      "cell_type": "markdown",
      "source": [
        "### word embedding"
      ],
      "metadata": {
        "id": "QUqtsMg8pzFs"
      }
    },
    {
      "cell_type": "code",
      "source": [
        "from keras.layers import Embedding\n",
        "from keras.preprocessing.sequence import pad_sequences #to make sure sentences size are same\n",
        "from keras.models import Sequential"
      ],
      "metadata": {
        "id": "U90_QE2ho5-k"
      },
      "execution_count": null,
      "outputs": []
    },
    {
      "cell_type": "code",
      "source": [
        "import numpy as np"
      ],
      "metadata": {
        "id": "poHi8zRpqeqG"
      },
      "execution_count": null,
      "outputs": []
    },
    {
      "cell_type": "code",
      "source": [
        "# padding helps to make the sentence sizes the same by adding zeros to the shorter sentences\n",
        "# pre is used to create 0 before the sentence and post for vice versa\n",
        "sent_length = 8\n",
        "embedded_docs = pad_sequences(onehot_rep,padding= 'pre', maxlen= sent_length)\n",
        "print(embedded_docs)"
      ],
      "metadata": {
        "colab": {
          "base_uri": "https://localhost:8080/"
        },
        "id": "08XL8Sc_qi-g",
        "outputId": "9fd1376e-b40f-4531-cc4a-3936fe865cc5"
      },
      "execution_count": null,
      "outputs": [
        {
          "output_type": "stream",
          "name": "stdout",
          "text": [
            "[[   0    0    0    0 5799 3619 1114  561]\n",
            " [   0    0    0    0 5799 3619 1114 2365]\n",
            " [   0    0    0    0 5799 9552 1114 7314]\n",
            " [   0    0    0 1353  779 8650 9339 1042]\n",
            " [   0    0    0 1353  779 8650 9339 5243]\n",
            " [   0    0    0 2022 5799  150 1114 6220]\n",
            " [   0    0    0    0 2515 5257 2550 9339]]\n"
          ]
        }
      ]
    },
    {
      "cell_type": "code",
      "source": [
        "# specify the dimensions for word embedding\n",
        "dims = 15"
      ],
      "metadata": {
        "id": "zBdZAfCCrVNa"
      },
      "execution_count": null,
      "outputs": []
    },
    {
      "cell_type": "code",
      "source": [
        "model = Sequential()\n",
        "model.add(Embedding(voc_size,10, input_length= sent_length))\n",
        "model.compile(optimizer = 'adam', metrics = ['mse'])"
      ],
      "metadata": {
        "id": "JbpMuQ1brjH6"
      },
      "execution_count": null,
      "outputs": []
    },
    {
      "cell_type": "code",
      "source": [
        "model.summary()"
      ],
      "metadata": {
        "colab": {
          "base_uri": "https://localhost:8080/"
        },
        "id": "lbhpJToZsAm3",
        "outputId": "2386db42-3e01-4c2b-aafe-66d91a8d7883"
      },
      "execution_count": null,
      "outputs": [
        {
          "output_type": "stream",
          "name": "stdout",
          "text": [
            "Model: \"sequential\"\n",
            "_________________________________________________________________\n",
            " Layer (type)                Output Shape              Param #   \n",
            "=================================================================\n",
            " embedding (Embedding)       (None, 8, 10)             100000    \n",
            "                                                                 \n",
            "=================================================================\n",
            "Total params: 100000 (390.62 KB)\n",
            "Trainable params: 100000 (390.62 KB)\n",
            "Non-trainable params: 0 (0.00 Byte)\n",
            "_________________________________________________________________\n"
          ]
        }
      ]
    },
    {
      "cell_type": "code",
      "source": [
        "print(model.predict(embedded_docs)[0])\n",
        "# now we can see each word is encoded into a matrix with 10 dimension"
      ],
      "metadata": {
        "colab": {
          "base_uri": "https://localhost:8080/"
        },
        "id": "rNI8me-4sCwZ",
        "outputId": "206fd796-2eb3-473f-9bb7-90fc5bde4029"
      },
      "execution_count": null,
      "outputs": [
        {
          "output_type": "stream",
          "name": "stdout",
          "text": [
            "1/1 [==============================] - 0s 23ms/step\n",
            "[[ 0.02106683 -0.04547268 -0.02648388 -0.02927913 -0.0217241   0.04225859\n",
            "  -0.016005    0.01028129 -0.04709239  0.02175155]\n",
            " [ 0.02106683 -0.04547268 -0.02648388 -0.02927913 -0.0217241   0.04225859\n",
            "  -0.016005    0.01028129 -0.04709239  0.02175155]\n",
            " [ 0.02106683 -0.04547268 -0.02648388 -0.02927913 -0.0217241   0.04225859\n",
            "  -0.016005    0.01028129 -0.04709239  0.02175155]\n",
            " [ 0.02106683 -0.04547268 -0.02648388 -0.02927913 -0.0217241   0.04225859\n",
            "  -0.016005    0.01028129 -0.04709239  0.02175155]\n",
            " [ 0.03311253 -0.01756931 -0.04740187  0.01388549 -0.01408589  0.01486653\n",
            "   0.02525654 -0.03462048 -0.01975858  0.02223295]\n",
            " [-0.03653441 -0.02480588  0.02337344 -0.02323476 -0.04334016 -0.04832014\n",
            "   0.04387852 -0.00178801 -0.01078258 -0.02261176]\n",
            " [ 0.01304204 -0.01477716 -0.04641216  0.03479205 -0.04203046  0.01343532\n",
            "  -0.00110427  0.02112038 -0.01173999 -0.00819776]\n",
            " [ 0.00933199  0.00253304  0.04789207 -0.02330451 -0.004635    0.01630951\n",
            "  -0.04337775  0.01327684  0.00326334  0.04200434]]\n"
          ]
        }
      ]
    },
    {
      "cell_type": "code",
      "source": [],
      "metadata": {
        "id": "jPvEhxBbsRHt"
      },
      "execution_count": null,
      "outputs": []
    }
  ]
}