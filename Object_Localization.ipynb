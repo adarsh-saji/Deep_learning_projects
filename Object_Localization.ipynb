{
  "cells": [
    {
      "cell_type": "markdown",
      "metadata": {
        "id": "view-in-github",
        "colab_type": "text"
      },
      "source": [
        "<a href=\"https://colab.research.google.com/github/adarsh-saji/Deep_learning_projects/blob/main/Object_Localization.ipynb\" target=\"_parent\"><img src=\"https://colab.research.google.com/assets/colab-badge.svg\" alt=\"Open In Colab\"/></a>"
      ]
    },
    {
      "cell_type": "code",
      "execution_count": null,
      "metadata": {
        "id": "rzfJC-qBQRjl"
      },
      "outputs": [],
      "source": [
        "from keras.layers import Dense, Flatten\n",
        "from keras.applications.vgg16 import VGG16\n",
        "from keras.models import Model\n",
        "from keras.optimizers import Adam,SGD"
      ]
    },
    {
      "cell_type": "code",
      "source": [
        "from tensorflow.keras.losses import MeanSquaredError\n",
        "from tensorflow.keras.metrics import MeanIoU"
      ],
      "metadata": {
        "id": "0sh2H6EncPuD"
      },
      "execution_count": null,
      "outputs": []
    },
    {
      "cell_type": "code",
      "execution_count": null,
      "metadata": {
        "id": "9uoLike7QupS"
      },
      "outputs": [],
      "source": [
        "from matplotlib.patches import Rectangle\n",
        "import numpy as np\n",
        "import matplotlib.pyplot as plt"
      ]
    },
    {
      "cell_type": "code",
      "execution_count": null,
      "metadata": {
        "id": "OQb7AIMrQ-g7",
        "colab": {
          "base_uri": "https://localhost:8080/"
        },
        "outputId": "502e581a-ec0c-4d04-ddc9-a75208157e19"
      },
      "outputs": [
        {
          "output_type": "stream",
          "name": "stdout",
          "text": [
            "Downloading data from https://storage.googleapis.com/tensorflow/keras-applications/vgg16/vgg16_weights_tf_dim_ordering_tf_kernels_notop.h5\n",
            "58889256/58889256 [==============================] - 0s 0us/step\n"
          ]
        }
      ],
      "source": [
        "vgg = VGG16(input_shape=[100,100,3], include_top= False, weights = 'imagenet')"
      ]
    },
    {
      "cell_type": "code",
      "execution_count": null,
      "metadata": {
        "id": "rhSIupz3RPa8"
      },
      "outputs": [],
      "source": [
        "x = Flatten()(vgg.output)\n",
        "x = Dense(4, activation = 'sigmoid')(x)\n",
        "model = Model(vgg.input, x)"
      ]
    },
    {
      "cell_type": "code",
      "execution_count": null,
      "metadata": {
        "id": "T219r1l0RtVU"
      },
      "outputs": [],
      "source": [
        "def image_generator(batch_size = 64):\n",
        "  while True:\n",
        "    for _ in range(50):\n",
        "      X = np.zeros((batch_size,100, 100,3))\n",
        "      Y = np.zeros((batch_size, 4))\n",
        "\n",
        "      for i in range(batch_size):\n",
        "        row0 = np.random.randint(90)\n",
        "        col0 = np.random.randint(90)\n",
        "        row1 = np.random.randint(row0,100)\n",
        "        col1 = np.random.randint(col0,100)\n",
        "\n",
        "        X[i, row0:row1, col0:col1, :] = 1\n",
        "        Y[i,0] = row0/100\n",
        "        Y[i,1] = col0/100\n",
        "        Y[i,2] = (row1-row0)/100\n",
        "        Y[i,3] = (col1-col0)/100\n",
        "\n",
        "    yield X,Y"
      ]
    },
    {
      "cell_type": "code",
      "execution_count": null,
      "metadata": {
        "id": "pGdhBb_-UG_X"
      },
      "outputs": [],
      "source": [
        "model.compile(loss = 'binary_crossentropy', optimizer = Adam(learning_rate= 0.001))"
      ]
    },
    {
      "cell_type": "code",
      "source": [
        "model.summary()"
      ],
      "metadata": {
        "id": "dfros5v5jXaH",
        "colab": {
          "base_uri": "https://localhost:8080/"
        },
        "outputId": "46696c16-e954-4b17-9b9d-48366ec39d46"
      },
      "execution_count": null,
      "outputs": [
        {
          "output_type": "stream",
          "name": "stdout",
          "text": [
            "Model: \"model\"\n",
            "_________________________________________________________________\n",
            " Layer (type)                Output Shape              Param #   \n",
            "=================================================================\n",
            " input_1 (InputLayer)        [(None, 100, 100, 3)]     0         \n",
            "                                                                 \n",
            " block1_conv1 (Conv2D)       (None, 100, 100, 64)      1792      \n",
            "                                                                 \n",
            " block1_conv2 (Conv2D)       (None, 100, 100, 64)      36928     \n",
            "                                                                 \n",
            " block1_pool (MaxPooling2D)  (None, 50, 50, 64)        0         \n",
            "                                                                 \n",
            " block2_conv1 (Conv2D)       (None, 50, 50, 128)       73856     \n",
            "                                                                 \n",
            " block2_conv2 (Conv2D)       (None, 50, 50, 128)       147584    \n",
            "                                                                 \n",
            " block2_pool (MaxPooling2D)  (None, 25, 25, 128)       0         \n",
            "                                                                 \n",
            " block3_conv1 (Conv2D)       (None, 25, 25, 256)       295168    \n",
            "                                                                 \n",
            " block3_conv2 (Conv2D)       (None, 25, 25, 256)       590080    \n",
            "                                                                 \n",
            " block3_conv3 (Conv2D)       (None, 25, 25, 256)       590080    \n",
            "                                                                 \n",
            " block3_pool (MaxPooling2D)  (None, 12, 12, 256)       0         \n",
            "                                                                 \n",
            " block4_conv1 (Conv2D)       (None, 12, 12, 512)       1180160   \n",
            "                                                                 \n",
            " block4_conv2 (Conv2D)       (None, 12, 12, 512)       2359808   \n",
            "                                                                 \n",
            " block4_conv3 (Conv2D)       (None, 12, 12, 512)       2359808   \n",
            "                                                                 \n",
            " block4_pool (MaxPooling2D)  (None, 6, 6, 512)         0         \n",
            "                                                                 \n",
            " block5_conv1 (Conv2D)       (None, 6, 6, 512)         2359808   \n",
            "                                                                 \n",
            " block5_conv2 (Conv2D)       (None, 6, 6, 512)         2359808   \n",
            "                                                                 \n",
            " block5_conv3 (Conv2D)       (None, 6, 6, 512)         2359808   \n",
            "                                                                 \n",
            " block5_pool (MaxPooling2D)  (None, 3, 3, 512)         0         \n",
            "                                                                 \n",
            " flatten (Flatten)           (None, 4608)              0         \n",
            "                                                                 \n",
            " dense (Dense)               (None, 4)                 18436     \n",
            "                                                                 \n",
            "=================================================================\n",
            "Total params: 14733124 (56.20 MB)\n",
            "Trainable params: 14733124 (56.20 MB)\n",
            "Non-trainable params: 0 (0.00 Byte)\n",
            "_________________________________________________________________\n"
          ]
        }
      ]
    },
    {
      "cell_type": "code",
      "execution_count": null,
      "metadata": {
        "colab": {
          "base_uri": "https://localhost:8080/"
        },
        "id": "0rlsMz33VeY4",
        "outputId": "0957b789-3c11-48df-9219-ab223752a7d2"
      },
      "outputs": [
        {
          "output_type": "stream",
          "name": "stdout",
          "text": [
            "Epoch 1/5\n"
          ]
        },
        {
          "output_type": "stream",
          "name": "stderr",
          "text": [
            "<ipython-input-19-9ca3a4e19fa6>:1: UserWarning: `Model.fit_generator` is deprecated and will be removed in a future version. Please use `Model.fit`, which supports generators.\n",
            "  model.fit_generator(\n"
          ]
        },
        {
          "output_type": "stream",
          "name": "stdout",
          "text": [
            "50/50 [==============================] - 14s 201ms/step - loss: 226.7711\n",
            "Epoch 2/5\n",
            "50/50 [==============================] - 9s 184ms/step - loss: 0.5206\n",
            "Epoch 3/5\n",
            "50/50 [==============================] - 11s 231ms/step - loss: 0.5104\n",
            "Epoch 4/5\n",
            "50/50 [==============================] - 9s 178ms/step - loss: 0.5024\n",
            "Epoch 5/5\n",
            "50/50 [==============================] - 10s 202ms/step - loss: 0.5071\n"
          ]
        },
        {
          "output_type": "execute_result",
          "data": {
            "text/plain": [
              "<keras.src.callbacks.History at 0x79c3c80f4310>"
            ]
          },
          "metadata": {},
          "execution_count": 19
        }
      ],
      "source": [
        "model.fit_generator(\n",
        "    image_generator(),\n",
        "    steps_per_epoch=50,\n",
        "    epochs= 5\n",
        ")"
      ]
    },
    {
      "cell_type": "code",
      "execution_count": null,
      "metadata": {
        "id": "9cZT0Uz8VwbC"
      },
      "outputs": [],
      "source": [
        "def make_prediction():\n",
        "  x = np.zeros((100,100,3))\n",
        "  row0 = np.random.randint(90)\n",
        "  col0 = np.random.randint(90)\n",
        "  row1 = np.random.randint(row0,100)\n",
        "  col1 = np.random.randint(col0,100)\n",
        "\n",
        "  x[row0:row1, col0:col1, :] = 1\n",
        "  print(row0,col0,row1,col0)\n",
        "\n",
        "  X = np.expand_dims(x, axis = 0)\n",
        "  p= model.predict(X)[0]\n",
        "  print(\"Predicted:\", p)\n",
        "\n",
        "  fig, ax =plt.subplots(1)\n",
        "  ax.imshow(x)\n",
        "  rect = Rectangle(\n",
        "    (p[1] * 100, p[0] * 100),\n",
        "    p[3] * 100, p[2] * 100,\n",
        "    linewidth=2, edgecolor='r', facecolor='none'\n",
        ")\n",
        "\n",
        "  ax.add_patch(rect)\n",
        "  plt.show()"
      ]
    },
    {
      "cell_type": "code",
      "execution_count": null,
      "metadata": {
        "colab": {
          "base_uri": "https://localhost:8080/",
          "height": 485
        },
        "id": "aZc18rr7c4T0",
        "outputId": "70828053-6d51-4d1b-ef55-ea5fb62b47aa"
      },
      "outputs": [
        {
          "output_type": "stream",
          "name": "stdout",
          "text": [
            "3 21 44 21\n",
            "1/1 [==============================] - 0s 17ms/step\n",
            "Predicted: [0.03008236 0.20036387 0.40810546 0.42469397]\n"
          ]
        },
        {
          "output_type": "display_data",
          "data": {
            "text/plain": [
              "<Figure size 640x480 with 1 Axes>"
            ],
            "image/png": "[encoded data removed]"
          },
          "metadata": {}
        }
      ],
      "source": [
        "make_prediction()"
      ]
    },
    {
      "cell_type": "code",
      "source": [],
      "metadata": {
        "id": "qeoOxGb3hZc9"
      },
      "execution_count": null,
      "outputs": []
    }
  ],
  "metadata": {
    "accelerator": "GPU",
    "colab": {
      "provenance": [],
      "mount_file_id": "1_FgVrqv-YXG2Qotp-eH_6iN8iyV-kCMU",
      "authorship_tag": "ABX9TyOgCA6FCWJpX46GmoS966CD",
      "include_colab_link": true
    },
    "kernelspec": {
      "display_name": "Python 3",
      "name": "python3"
    },
    "language_info": {
      "name": "python"
    }
  },
  "nbformat": 4,
  "nbformat_minor": 0
}